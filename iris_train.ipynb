{
 "cells": [
  {
   "cell_type": "code",
   "execution_count": 1,
   "id": "dd3512c7",
   "metadata": {},
   "outputs": [],
   "source": [
    "import numpy as np\n",
    "import pandas as pd\n",
    "from sklearn import datasets\n",
    "from sklearn.model_selection import train_test_split"
   ]
  },
  {
   "cell_type": "code",
   "execution_count": 2,
   "id": "1e64ac0a",
   "metadata": {},
   "outputs": [
    {
     "name": "stdout",
     "output_type": "stream",
     "text": [
      "['setosa' 'versicolor' 'virginica']\n"
     ]
    }
   ],
   "source": [
    "iris = datasets.load_iris()\n",
    "X = pd.DataFrame(iris.data)\n",
    "y = iris.target\n",
    "y_name = iris.target_names\n",
    "print(y_name)"
   ]
  },
  {
   "cell_type": "code",
   "execution_count": 3,
   "id": "6e3e8aea",
   "metadata": {},
   "outputs": [],
   "source": [
    "X_train, X_test, y_train, y_test = train_test_split(X, y, \n",
    "                                                    random_state=42, \n",
    "                                                    test_size=0.2, \n",
    "                                                    stratify=y)"
   ]
  },
  {
   "cell_type": "code",
   "execution_count": 4,
   "id": "0b1b0c87",
   "metadata": {},
   "outputs": [
    {
     "name": "stdout",
     "output_type": "stream",
     "text": [
      "0.9666666666666667\n"
     ]
    }
   ],
   "source": [
    "from sklearn.svm import SVC\n",
    "from sklearn.metrics import accuracy_score\n",
    "\n",
    "clf01 = SVC()\n",
    "clf01.fit(X_train, y_train)\n",
    "acc01 = accuracy_score(y_test, clf01.predict(X_test))\n",
    "print(acc01)"
   ]
  },
  {
   "cell_type": "code",
   "execution_count": 5,
   "id": "64a796ef",
   "metadata": {},
   "outputs": [
    {
     "data": {
      "text/plain": [
       "['model/svm.joblib']"
      ]
     },
     "execution_count": 5,
     "metadata": {},
     "output_type": "execute_result"
    }
   ],
   "source": [
    "import joblib\n",
    "joblib.dump(clf01, 'model/svm.joblib')"
   ]
  },
  {
   "cell_type": "code",
   "execution_count": null,
   "id": "6939fff5",
   "metadata": {},
   "outputs": [
    {
     "name": "stdout",
     "output_type": "stream",
     "text": [
      "0.9333333333333333\n"
     ]
    }
   ],
   "source": [
    "from sklearn.ensemble import RandomForestClassifier\n",
    "\n",
    "clf02 = RandomForestClassifier(n_estimators=500)\n",
    "clf02.fit(X_train, y_train)\n",
    "acc02 = accuracy_score(y_test, clf02.predict(X_test))\n",
    "print(acc02)"
   ]
  },
  {
   "cell_type": "code",
   "execution_count": 7,
   "id": "42b14ea3",
   "metadata": {},
   "outputs": [
    {
     "data": {
      "text/plain": [
       "['model/RF.joblib']"
      ]
     },
     "execution_count": 7,
     "metadata": {},
     "output_type": "execute_result"
    }
   ],
   "source": [
    "joblib.dump(clf02, 'model/RF.joblib')"
   ]
  },
  {
   "cell_type": "code",
   "execution_count": 8,
   "id": "e853d076",
   "metadata": {},
   "outputs": [
    {
     "name": "stdout",
     "output_type": "stream",
     "text": [
      "1.0\n"
     ]
    },
    {
     "data": {
      "text/plain": [
       "['model/KNN.joblib']"
      ]
     },
     "execution_count": 8,
     "metadata": {},
     "output_type": "execute_result"
    }
   ],
   "source": [
    "from sklearn.neighbors import KNeighborsClassifier\n",
    "\n",
    "clf03 = KNeighborsClassifier()\n",
    "clf03.fit(X_train, y_train)\n",
    "acc03 = accuracy_score(y_test, clf03.predict(X_test))\n",
    "print(acc03)\n",
    "joblib.dump(clf03, 'model/KNN.joblib')"
   ]
  },
  {
   "cell_type": "code",
   "execution_count": 9,
   "id": "c904c12a",
   "metadata": {},
   "outputs": [
    {
     "name": "stdout",
     "output_type": "stream",
     "text": [
      "0.9666666666666667\n"
     ]
    },
    {
     "data": {
      "text/plain": [
       "['model/LR.joblib']"
      ]
     },
     "execution_count": 9,
     "metadata": {},
     "output_type": "execute_result"
    }
   ],
   "source": [
    "from sklearn.linear_model import LogisticRegression\n",
    "\n",
    "clf04 = LogisticRegression()\n",
    "clf04.fit(X_train, y_train)\n",
    "acc04 = accuracy_score(y_test, clf04.predict(X_test))\n",
    "print(acc04)\n",
    "joblib.dump(clf04, 'model/LR.joblib')"
   ]
  }
 ],
 "metadata": {
  "kernelspec": {
   "display_name": "base",
   "language": "python",
   "name": "python3"
  },
  "language_info": {
   "codemirror_mode": {
    "name": "ipython",
    "version": 3
   },
   "file_extension": ".py",
   "mimetype": "text/x-python",
   "name": "python",
   "nbconvert_exporter": "python",
   "pygments_lexer": "ipython3",
   "version": "3.12.7"
  }
 },
 "nbformat": 4,
 "nbformat_minor": 5
}
